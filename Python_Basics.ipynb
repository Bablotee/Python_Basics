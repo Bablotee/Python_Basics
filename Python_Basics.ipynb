{
 "cells": [
  {
   "cell_type": "markdown",
   "id": "5df98f59",
   "metadata": {},
   "source": [
    "# Introduction to Python"
   ]
  },
  {
   "cell_type": "code",
   "execution_count": 2,
   "id": "b0337561",
   "metadata": {},
   "outputs": [
    {
     "name": "stdout",
     "output_type": "stream",
     "text": [
      "15625\n"
     ]
    }
   ],
   "source": [
    "x = 5\n",
    "y = 6\n",
    "print(x**y)"
   ]
  },
  {
   "cell_type": "code",
   "execution_count": 3,
   "id": "e613d869",
   "metadata": {},
   "outputs": [],
   "source": [
    "totalStudents = 35\n",
    "totalMale = 20\n",
    "totalFemale = totalStudents - totalMale"
   ]
  },
  {
   "cell_type": "code",
   "execution_count": 4,
   "id": "c35d8c4f",
   "metadata": {},
   "outputs": [
    {
     "data": {
      "text/plain": [
       "15"
      ]
     },
     "execution_count": 4,
     "metadata": {},
     "output_type": "execute_result"
    }
   ],
   "source": [
    "totalFemale"
   ]
  },
  {
   "cell_type": "markdown",
   "id": "33221374",
   "metadata": {},
   "source": [
    "# Creating and filling an empty dictionary"
   ]
  },
  {
   "cell_type": "code",
   "execution_count": 5,
   "id": "edbe4b8d",
   "metadata": {},
   "outputs": [],
   "source": [
    "custNames = ['Collins', 'Goodnews', 'Mary', 'Mark', 'Rachael']\n",
    "acctBals = [5374.98, 75643.99, 65437.3, 436673.67,75643.99 ]"
   ]
  },
  {
   "cell_type": "code",
   "execution_count": 6,
   "id": "69e8d0c6",
   "metadata": {},
   "outputs": [],
   "source": [
    "acctsBalDict = dict() # Or we can use \"acctsBalDict = {}\"\n",
    "\n",
    "acctsBalDict['Collins'] = 5374.98\n",
    "acctsBalDict['Goodnews'] = 75643.99\n",
    "acctsBalDict['Mary'] = 65437.3\n",
    "acctsBalDict['Mark'] = 436673.67\n",
    "acctsBalDict['Rachael'] = 75643.99\n"
   ]
  },
  {
   "cell_type": "code",
   "execution_count": 7,
   "id": "c1cb76fa",
   "metadata": {},
   "outputs": [
    {
     "data": {
      "text/plain": [
       "{'Collins': 5374.98,\n",
       " 'Goodnews': 75643.99,\n",
       " 'Mary': 65437.3,\n",
       " 'Mark': 436673.67,\n",
       " 'Rachael': 75643.99}"
      ]
     },
     "execution_count": 7,
     "metadata": {},
     "output_type": "execute_result"
    }
   ],
   "source": [
    "acctsBalDict"
   ]
  },
  {
   "cell_type": "markdown",
   "id": "f58c1bdd",
   "metadata": {},
   "source": [
    "Scenario: we have a class of 5 students. we want to assign a bonus score to any student that achieves above 80% in the course exam"
   ]
  },
  {
   "cell_type": "code",
   "execution_count": 8,
   "id": "c65718db",
   "metadata": {},
   "outputs": [],
   "source": [
    "studNameList = ['Collins','Goodnews','Mary', 'Mark','Rachael']\n",
    "examScoreList = [67.5, 95.0, 77.8, 90.3, 35.8]"
   ]
  },
  {
   "cell_type": "markdown",
   "id": "f4318497",
   "metadata": {},
   "source": [
    "# Adding 10 points bonus to any student with score above 80 and ensuring student score does not exceed 100. Outputting the score results in a dictionary using the if and else statement\n"
   ]
  },
  {
   "cell_type": "code",
   "execution_count": 20,
   "id": "008d5007",
   "metadata": {},
   "outputs": [],
   "source": [
    "# Dictionary Implementation\n",
    "'''\n",
    "Dictionaries store information in key and Value pairs.\n",
    "for example; student name as key and exam score as acssociated valkue\n",
    "'''\n",
    "\n",
    "studRecDict = {}\n",
    "if len(studNameList) == len(examScoreList): # sanity check\n",
    "    for stud, score in zip(studNameList,examScoreList):\n",
    "        currentStudent = stud\n",
    "        currentStdScore = score\n",
    " #print(currentStudent, currentStdScore)\n",
    " #Task: check student score to see if its above 80\n",
    "        if currentStdScore > 80:\n",
    "            currentStdScore = currentStdScore + 10\n",
    "            if currentStdScore <= 100:\n",
    "                studRecDict[currentStudent] = currentStdScore\n",
    "            else:\n",
    "                currentStdScore = 100\n",
    "                studRecDict[currentStudent] = currentStdScore\n",
    "        else:\n",
    "            studRecDict[currentStudent] = currentStdScore"
   ]
  },
  {
   "cell_type": "code",
   "execution_count": 21,
   "id": "85756f25",
   "metadata": {},
   "outputs": [
    {
     "data": {
      "text/plain": [
       "{'Collins': 67.5, 'Goodnews': 100, 'Mary': 77.8, 'Mark': 100, 'Rachael': 35.8}"
      ]
     },
     "execution_count": 21,
     "metadata": {},
     "output_type": "execute_result"
    }
   ],
   "source": [
    "studRecDict"
   ]
  },
  {
   "cell_type": "markdown",
   "id": "cff3b0b0",
   "metadata": {},
   "source": [
    "# Outputting the score results in a List using an if and else statement"
   ]
  },
  {
   "cell_type": "code",
   "execution_count": 22,
   "id": "833bc2cb",
   "metadata": {},
   "outputs": [],
   "source": [
    "# List implementation\n",
    "'''\n",
    "Dictionaries store information in key and Value pairs.\n",
    "for example; student name as key and exam score as acssociated valkue\n",
    "'''\n",
    "\n",
    "studScoreList = []\n",
    "studList2 = []\n",
    "if len(studNameList) == len(examScoreList): # sanity check\n",
    "    for stud, score in zip(studNameList,examScoreList):\n",
    "        currentStudent = stud\n",
    "        currentStdScore = score\n",
    "#print(currentStudent, currentStdScore)\n",
    "#Task: check student score to see if its above 80\n",
    "        if currentStdScore > 80:\n",
    "            currentStdScore = currentStdScore + 10\n",
    "            if currentStdScore <= 100:\n",
    "                studList2.append(currentStudent)\n",
    "                studScoreList.append(currentStdScore)\n",
    "\n",
    "            else:\n",
    "                currentStdScore = 100\n",
    "                studList2.append(currentStudent)\n",
    "                studScoreList.append(currentStdScore)\n",
    "        else:\n",
    "            studList2.append(currentStudent)\n",
    "            studScoreList.append(currentStdScore)"
   ]
  },
  {
   "cell_type": "code",
   "execution_count": 23,
   "id": "06897c5a",
   "metadata": {},
   "outputs": [
    {
     "name": "stdout",
     "output_type": "stream",
     "text": [
      "[67.5, 100, 77.8, 100, 35.8]\n",
      "['Collins', 'Goodnews', 'Mary', 'Mark', 'Rachael']\n"
     ]
    }
   ],
   "source": [
    "print(studScoreList)\n",
    "print(studList2)"
   ]
  },
  {
   "cell_type": "markdown",
   "id": "0b9285af",
   "metadata": {},
   "source": [
    "# For Loop"
   ]
  },
  {
   "cell_type": "code",
   "execution_count": 24,
   "id": "08d04e7a",
   "metadata": {},
   "outputs": [
    {
     "name": "stdout",
     "output_type": "stream",
     "text": [
      "the chartarer : P is in the position : 0\n",
      "the chartarer : a is in the position : 1\n",
      "the chartarer : t is in the position : 2\n",
      "the chartarer : r is in the position : 3\n",
      "the chartarer : i is in the position : 4\n",
      "the chartarer : c is in the position : 5\n",
      "the chartarer : k is in the position : 6\n",
      "this is the end of the loop\n"
     ]
    }
   ],
   "source": [
    "studName = 'Patrick'\n",
    "for char in studName:\n",
    " idx = studName.index(char)\n",
    " print('the chartarer :', char,'is in the position :', idx )\n",
    "print('this is the end of the loop')"
   ]
  },
  {
   "cell_type": "markdown",
   "id": "ad12e454",
   "metadata": {},
   "source": [
    "# Do-While loop"
   ]
  },
  {
   "cell_type": "code",
   "execution_count": 25,
   "id": "75ea4870",
   "metadata": {},
   "outputs": [],
   "source": [
    "listLen = len(custNames)\n",
    "listLen\n",
    "acctsBalDict2 = dict()\n",
    "counter = 0\n",
    "while counter < listLen:\n",
    " ctr = counter\n",
    " currentCust = custNames[ctr]\n",
    " bal = acctBals[ctr]\n",
    " acctsBalDict2[currentCust]= bal\n",
    " counter +=1"
   ]
  },
  {
   "cell_type": "code",
   "execution_count": 26,
   "id": "6f92d2f6",
   "metadata": {},
   "outputs": [
    {
     "data": {
      "text/plain": [
       "{'Collins': 5374.98,\n",
       " 'Goodnews': 75643.99,\n",
       " 'Mary': 65437.3,\n",
       " 'Mark': 436673.67,\n",
       " 'Rachael': 75643.99}"
      ]
     },
     "execution_count": 26,
     "metadata": {},
     "output_type": "execute_result"
    }
   ],
   "source": [
    "acctsBalDict2"
   ]
  },
  {
   "cell_type": "code",
   "execution_count": 27,
   "id": "fdd47629",
   "metadata": {},
   "outputs": [
    {
     "data": {
      "text/plain": [
       "dict"
      ]
     },
     "execution_count": 27,
     "metadata": {},
     "output_type": "execute_result"
    }
   ],
   "source": [
    "type(acctsBalDict2)"
   ]
  },
  {
   "cell_type": "markdown",
   "id": "ccb7db2f",
   "metadata": {},
   "source": [
    "# Functions "
   ]
  },
  {
   "cell_type": "code",
   "execution_count": 32,
   "id": "32d5894d",
   "metadata": {},
   "outputs": [],
   "source": [
    "# Creating a function to generate table of defaulting customersabs\n",
    "import pandas as pd\n",
    "def daysCompute(flagedCust):\n",
    "# structure of parametrer is: customername, loan amount, days overdue\n",
    "    custdf = pd.DataFrame(columns = ['custName','amount', 'Overdue'])\n",
    "    \n",
    "    cusnameL = []\n",
    "    amt = []\n",
    "    days = []\n",
    "    for items in flagedCust:\n",
    "        customer = items[0]\n",
    "        loanAmt = items[1]\n",
    "        dayODue = items[2]\n",
    "\n",
    "        cusnameL.append(customer)\n",
    "        amt.append(loanAmt)\n",
    "        days.append(dayODue)\n",
    "\n",
    "    custdf['custName'] = cusnameL\n",
    "    custdf['amount'] = amt\n",
    "    custdf['Overdue'] = days\n",
    "\n",
    "    return custdf"
   ]
  },
  {
   "cell_type": "code",
   "execution_count": 34,
   "id": "3b1b18b2",
   "metadata": {},
   "outputs": [
    {
     "data": {
      "text/plain": [
       "[('Mark', 436673.67, 170), ('Rachael', 75643.99, 99)]"
      ]
     },
     "execution_count": 34,
     "metadata": {},
     "output_type": "execute_result"
    }
   ],
   "source": [
    "# Scenario1\n",
    "custNames = ['Collins', 'Goodnews', 'Mary', 'Mark', 'Rachael']\n",
    "loanBals = [5374.98, 75643.99, 65437.3, 436673.67,75643.99 ]\n",
    "daysOverdue = [24, 65, 90, 170, 99]\n",
    "\n",
    "#Requirement\n",
    "# output a report of customers who are over 90 days due\n",
    "\n",
    "overDueDaysMin = 90\n",
    "flagedCust = []\n",
    "for dayOver in daysOverdue:\n",
    "    if dayOver > overDueDaysMin:\n",
    "        flagIndx = daysOverdue.index(dayOver)\n",
    "        cust = custNames[flagIndx]\n",
    "        loan = loanBals[flagIndx]\n",
    "\n",
    "#print(cust, loan, dayOver)\n",
    "        flagedCust.append((cust, loan, dayOver))\n",
    "\n",
    "# Now we call a funtion and pass the list of defaulting customer to it\n",
    "        defaulttable = daysCompute(flagedCust)\n",
    "\n",
    "flagedCust"
   ]
  },
  {
   "cell_type": "code",
   "execution_count": 35,
   "id": "efde0bbb",
   "metadata": {},
   "outputs": [
    {
     "data": {
      "text/html": [
       "<div>\n",
       "<style scoped>\n",
       "    .dataframe tbody tr th:only-of-type {\n",
       "        vertical-align: middle;\n",
       "    }\n",
       "\n",
       "    .dataframe tbody tr th {\n",
       "        vertical-align: top;\n",
       "    }\n",
       "\n",
       "    .dataframe thead th {\n",
       "        text-align: right;\n",
       "    }\n",
       "</style>\n",
       "<table border=\"1\" class=\"dataframe\">\n",
       "  <thead>\n",
       "    <tr style=\"text-align: right;\">\n",
       "      <th></th>\n",
       "      <th>custName</th>\n",
       "      <th>amount</th>\n",
       "      <th>Overdue</th>\n",
       "    </tr>\n",
       "  </thead>\n",
       "  <tbody>\n",
       "    <tr>\n",
       "      <th>0</th>\n",
       "      <td>Mark</td>\n",
       "      <td>436673.67</td>\n",
       "      <td>170</td>\n",
       "    </tr>\n",
       "    <tr>\n",
       "      <th>1</th>\n",
       "      <td>Rachael</td>\n",
       "      <td>75643.99</td>\n",
       "      <td>99</td>\n",
       "    </tr>\n",
       "  </tbody>\n",
       "</table>\n",
       "</div>"
      ],
      "text/plain": [
       "  custName     amount  Overdue\n",
       "0     Mark  436673.67      170\n",
       "1  Rachael   75643.99       99"
      ]
     },
     "execution_count": 35,
     "metadata": {},
     "output_type": "execute_result"
    }
   ],
   "source": [
    "defaulttable"
   ]
  },
  {
   "cell_type": "markdown",
   "id": "3cfb3f25",
   "metadata": {},
   "source": [
    "# Assigning grades to student score using functions"
   ]
  },
  {
   "cell_type": "code",
   "execution_count": 42,
   "id": "938a2537",
   "metadata": {},
   "outputs": [
    {
     "name": "stdout",
     "output_type": "stream",
     "text": [
      "67.5 B\n",
      "95.0 A\n",
      "77.8 B\n",
      "90.3 A\n",
      "35.8 F\n"
     ]
    }
   ],
   "source": [
    "#Step 1: Create functionabs\n",
    "# Statement Scope\n",
    "def grader(score):\n",
    "    grade = ''\n",
    "    if score > 80:\n",
    "        grade = 'A'\n",
    "    elif score > 60 and score < 80:\n",
    "        grade = 'B'\n",
    "    elif score > 50 and score < 60:\n",
    "        grade = 'C'\n",
    "    else:\n",
    "        grade = 'F'\n",
    "\n",
    "    return grade\n",
    "\n",
    "studNameList = ['Collins','Goodnews','Mary', 'Mark','Rachael']\n",
    "examScoreList = [67.5, 95.0, 77.8, 90.3, 35.8]\n",
    "\n",
    "for score in examScoreList:\n",
    "    studentScore = score\n",
    "\n",
    "# get the grade of the student by passing the score to the grade funtion\n",
    "    grade = grader(score)\n",
    "    \n",
    "    print(score, grade)"
   ]
  },
  {
   "cell_type": "code",
   "execution_count": 46,
   "id": "d6dd9654",
   "metadata": {},
   "outputs": [
    {
     "name": "stdout",
     "output_type": "stream",
     "text": [
      "['Collins', 67.5, 'B']\n",
      "['Goodnews', 95.0, 'A']\n",
      "['Mary', 77.8, 'B']\n",
      "['Mark', 80, 'A']\n",
      "['Rachael', 35.8, 'F']\n"
     ]
    }
   ],
   "source": [
    "# Advanced version\n",
    "#Step 1: Create functionabs\n",
    "# Statement Scope\n",
    "def grader(score):\n",
    "    grade = ''\n",
    "    if score >= 80:\n",
    "        grade = 'A'\n",
    "    elif score >= 60 and score < 80:\n",
    "        grade = 'B'\n",
    "    elif score >= 50 and score < 60:\n",
    "        grade = 'C'\n",
    "    else:\n",
    "        grade = 'F'\n",
    "\n",
    "    return grade\n",
    "\n",
    "studNameList = ['Collins','Goodnews','Mary', 'Mark','Rachael']\n",
    "examScoreList = [67.5, 95.0, 77.8, 80, 35.8]\n",
    "\n",
    "for student,score in zip(studNameList, examScoreList):\n",
    "    studentScore = score\n",
    "    name = student\n",
    "\n",
    "# get the grade of the student by passing the score to the grade funtion\n",
    "    grade = grader(studentScore)\n",
    "    studentReport = [name, studentScore, grade]\n",
    "\n",
    "\n",
    "    print(studentReport)"
   ]
  },
  {
   "cell_type": "code",
   "execution_count": 54,
   "id": "023fd9e7",
   "metadata": {},
   "outputs": [
    {
     "name": "stdout",
     "output_type": "stream",
     "text": [
      "4\n",
      "7\n",
      "8\n",
      "10\n",
      "12\n"
     ]
    }
   ],
   "source": [
    "testList = [4,7,8, 10, 12]\n",
    "print(testList[0])\n",
    "print(testList[1])\n",
    "print(testList[2])\n",
    "print(testList[3])\n",
    "print(testList[4])"
   ]
  },
  {
   "cell_type": "code",
   "execution_count": 55,
   "id": "2fd5ea7a",
   "metadata": {},
   "outputs": [
    {
     "name": "stdout",
     "output_type": "stream",
     "text": [
      "4\n",
      "8\n",
      "-----\n",
      "7\n",
      "14\n",
      "-----\n",
      "8\n",
      "16\n",
      "-----\n",
      "10\n",
      "20\n",
      "-----\n",
      "12\n",
      "24\n",
      "-----\n"
     ]
    }
   ],
   "source": [
    "for stan in testList:\n",
    "    print(stan)\n",
    "    y = stan*2\n",
    "    print(y)\n",
    "    print('-----')"
   ]
  },
  {
   "cell_type": "code",
   "execution_count": null,
   "id": "59ce70ee",
   "metadata": {},
   "outputs": [],
   "source": []
  }
 ],
 "metadata": {
  "kernelspec": {
   "display_name": "Python 3 (ipykernel)",
   "language": "python",
   "name": "python3"
  },
  "language_info": {
   "codemirror_mode": {
    "name": "ipython",
    "version": 3
   },
   "file_extension": ".py",
   "mimetype": "text/x-python",
   "name": "python",
   "nbconvert_exporter": "python",
   "pygments_lexer": "ipython3",
   "version": "3.9.7"
  }
 },
 "nbformat": 4,
 "nbformat_minor": 5
}
