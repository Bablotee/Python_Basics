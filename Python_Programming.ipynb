{
 "cells": [
  {
   "cell_type": "markdown",
   "id": "8de6abf4",
   "metadata": {},
   "source": [
    "# Introduction to Python Programming"
   ]
  },
  {
   "cell_type": "code",
   "execution_count": 1,
   "id": "76360c74",
   "metadata": {},
   "outputs": [
    {
     "name": "stdout",
     "output_type": "stream",
     "text": [
      "Effiong\n"
     ]
    }
   ],
   "source": [
    "# Case Sensitivity\n",
    "studentName = 'Effiong'\n",
    "print(studentName)"
   ]
  },
  {
   "cell_type": "markdown",
   "id": "88299475",
   "metadata": {},
   "source": [
    "# Variables"
   ]
  },
  {
   "cell_type": "markdown",
   "id": "b9c0a466",
   "metadata": {},
   "source": [
    "Suppose we are told that a student named Seun has a bag containing 3 oranges and 5 eggs. Represent this in code using variables"
   ]
  },
  {
   "cell_type": "code",
   "execution_count": null,
   "id": "2c653588",
   "metadata": {},
   "outputs": [],
   "source": [
    "Variable      Assignment operator             value\n",
    "studName                =                    'Seun'\n",
    "numOranges              =                      3\n",
    "numBags                 =                      1\n",
    "numEggs                 =                      5"
   ]
  },
  {
   "cell_type": "code",
   "execution_count": null,
   "id": "93a2403f",
   "metadata": {},
   "outputs": [],
   "source": [
    "# First principle\n",
    "Naming of Variables\n",
    "\n",
    "# Variable name should be a little bit discriptive of the type of objects it points to\n",
    "# camel Cased- the first character of the first word is small letter. all other are capital\n",
    "# variable names must be short"
   ]
  },
  {
   "cell_type": "code",
   "execution_count": 4,
   "id": "70cb7ad8",
   "metadata": {},
   "outputs": [],
   "source": [
    "studName = 'seun'\n",
    "numOranges = 3\n",
    "numBags = 1\n",
    "numEggs = 5"
   ]
  },
  {
   "cell_type": "code",
   "execution_count": 6,
   "id": "e1f3de5c",
   "metadata": {},
   "outputs": [],
   "source": [
    "myAge = 30"
   ]
  },
  {
   "cell_type": "code",
   "execution_count": 7,
   "id": "0e6de1e3",
   "metadata": {},
   "outputs": [
    {
     "name": "stdout",
     "output_type": "stream",
     "text": [
      "30\n"
     ]
    }
   ],
   "source": [
    "print(myAge)"
   ]
  },
  {
   "cell_type": "code",
   "execution_count": 8,
   "id": "b819e4ad",
   "metadata": {},
   "outputs": [
    {
     "name": "stdout",
     "output_type": "stream",
     "text": [
      "5\n"
     ]
    }
   ],
   "source": [
    "print(numEggs)"
   ]
  },
  {
   "cell_type": "code",
   "execution_count": 9,
   "id": "1bcd6c5b",
   "metadata": {},
   "outputs": [],
   "source": [
    "myAge2 = myAge = 30"
   ]
  },
  {
   "cell_type": "code",
   "execution_count": 10,
   "id": "a1afb182",
   "metadata": {},
   "outputs": [
    {
     "name": "stdout",
     "output_type": "stream",
     "text": [
      "30\n"
     ]
    }
   ],
   "source": [
    "print(myAge)"
   ]
  },
  {
   "cell_type": "code",
   "execution_count": 11,
   "id": "3859b91d",
   "metadata": {},
   "outputs": [],
   "source": [
    "myAge = 50"
   ]
  },
  {
   "cell_type": "code",
   "execution_count": 12,
   "id": "30d333d7",
   "metadata": {},
   "outputs": [
    {
     "name": "stdout",
     "output_type": "stream",
     "text": [
      "50\n"
     ]
    }
   ],
   "source": [
    "print(myAge)"
   ]
  },
  {
   "cell_type": "code",
   "execution_count": 13,
   "id": "c50393e3",
   "metadata": {},
   "outputs": [
    {
     "name": "stdout",
     "output_type": "stream",
     "text": [
      "30\n"
     ]
    }
   ],
   "source": [
    "print(myAge2)"
   ]
  },
  {
   "cell_type": "code",
   "execution_count": null,
   "id": "c2c22480",
   "metadata": {},
   "outputs": [],
   "source": [
    "#  public string age = 'today'\n",
    "\n",
    "age = 4"
   ]
  },
  {
   "cell_type": "code",
   "execution_count": 14,
   "id": "707c2504",
   "metadata": {},
   "outputs": [],
   "source": [
    "age = 30"
   ]
  },
  {
   "cell_type": "code",
   "execution_count": 15,
   "id": "53276954",
   "metadata": {},
   "outputs": [
    {
     "data": {
      "text/plain": [
       "int"
      ]
     },
     "execution_count": 15,
     "metadata": {},
     "output_type": "execute_result"
    }
   ],
   "source": [
    "type(age)"
   ]
  },
  {
   "cell_type": "code",
   "execution_count": 22,
   "id": "7d96ffa3",
   "metadata": {},
   "outputs": [],
   "source": [
    "studName = 'seun'"
   ]
  },
  {
   "cell_type": "code",
   "execution_count": 17,
   "id": "96827340",
   "metadata": {},
   "outputs": [
    {
     "data": {
      "text/plain": [
       "str"
      ]
     },
     "execution_count": 17,
     "metadata": {},
     "output_type": "execute_result"
    }
   ],
   "source": [
    "type(studName)"
   ]
  },
  {
   "cell_type": "code",
   "execution_count": 18,
   "id": "9d2d6191",
   "metadata": {},
   "outputs": [
    {
     "data": {
      "text/plain": [
       "int"
      ]
     },
     "execution_count": 18,
     "metadata": {},
     "output_type": "execute_result"
    }
   ],
   "source": [
    "age = 30\n",
    "type(age)"
   ]
  },
  {
   "cell_type": "code",
   "execution_count": 19,
   "id": "e224c416",
   "metadata": {},
   "outputs": [
    {
     "data": {
      "text/plain": [
       "str"
      ]
     },
     "execution_count": 19,
     "metadata": {},
     "output_type": "execute_result"
    }
   ],
   "source": [
    "age = 'seun'\n",
    "type(age)"
   ]
  },
  {
   "cell_type": "code",
   "execution_count": 20,
   "id": "598cc610",
   "metadata": {},
   "outputs": [
    {
     "data": {
      "text/plain": [
       "float"
      ]
     },
     "execution_count": 20,
     "metadata": {},
     "output_type": "execute_result"
    }
   ],
   "source": [
    "age = 30.0\n",
    "type(age)"
   ]
  },
  {
   "cell_type": "markdown",
   "id": "ba5e2d5e",
   "metadata": {},
   "source": [
    "# Variable types"
   ]
  },
  {
   "cell_type": "code",
   "execution_count": null,
   "id": "b819ced4",
   "metadata": {},
   "outputs": [],
   "source": [
    "int\n",
    "float\n",
    "string\n",
    "list\n",
    "tuple\n",
    "sets\n",
    "dictionaries\n"
   ]
  },
  {
   "cell_type": "code",
   "execution_count": null,
   "id": "7763ac4e",
   "metadata": {},
   "outputs": [],
   "source": [
    "# agatha has 10,000 pesos"
   ]
  },
  {
   "cell_type": "code",
   "execution_count": 23,
   "id": "31bfc865",
   "metadata": {},
   "outputs": [],
   "source": [
    "agathaFund = float(10000)"
   ]
  },
  {
   "cell_type": "code",
   "execution_count": 24,
   "id": "8011f9fd",
   "metadata": {},
   "outputs": [
    {
     "data": {
      "text/plain": [
       "10000.0"
      ]
     },
     "execution_count": 24,
     "metadata": {},
     "output_type": "execute_result"
    }
   ],
   "source": [
    "agathaFund"
   ]
  },
  {
   "cell_type": "code",
   "execution_count": null,
   "id": "9b07f62f",
   "metadata": {},
   "outputs": [],
   "source": [
    "#Operators\n",
    "\n",
    "+\n",
    "-\n",
    "*\n",
    "/\n",
    "%\n",
    "//\n",
    "**"
   ]
  },
  {
   "cell_type": "code",
   "execution_count": 26,
   "id": "2182c2a4",
   "metadata": {},
   "outputs": [],
   "source": [
    "x = 30\n",
    "y = 3"
   ]
  },
  {
   "cell_type": "code",
   "execution_count": 27,
   "id": "80775763",
   "metadata": {},
   "outputs": [
    {
     "data": {
      "text/plain": [
       "90"
      ]
     },
     "execution_count": 27,
     "metadata": {},
     "output_type": "execute_result"
    }
   ],
   "source": [
    "x*y"
   ]
  },
  {
   "cell_type": "code",
   "execution_count": 28,
   "id": "37444f6b",
   "metadata": {},
   "outputs": [],
   "source": [
    "z = x*y"
   ]
  },
  {
   "cell_type": "code",
   "execution_count": 29,
   "id": "81a87924",
   "metadata": {},
   "outputs": [
    {
     "name": "stdout",
     "output_type": "stream",
     "text": [
      "90\n"
     ]
    }
   ],
   "source": [
    "print(z)"
   ]
  },
  {
   "cell_type": "code",
   "execution_count": 30,
   "id": "ecba4cf5",
   "metadata": {},
   "outputs": [
    {
     "data": {
      "text/plain": [
       "10.0"
      ]
     },
     "execution_count": 30,
     "metadata": {},
     "output_type": "execute_result"
    }
   ],
   "source": [
    "z = x/y\n",
    "z"
   ]
  },
  {
   "cell_type": "code",
   "execution_count": 31,
   "id": "ad2f2a20",
   "metadata": {},
   "outputs": [
    {
     "data": {
      "text/plain": [
       "27"
      ]
     },
     "execution_count": 31,
     "metadata": {},
     "output_type": "execute_result"
    }
   ],
   "source": [
    "z = x-y\n",
    "z"
   ]
  },
  {
   "cell_type": "code",
   "execution_count": 33,
   "id": "ab7ef933",
   "metadata": {},
   "outputs": [
    {
     "data": {
      "text/plain": [
       "27000"
      ]
     },
     "execution_count": 33,
     "metadata": {},
     "output_type": "execute_result"
    }
   ],
   "source": [
    "z = x**y\n",
    "z"
   ]
  },
  {
   "cell_type": "code",
   "execution_count": 35,
   "id": "b948e770",
   "metadata": {},
   "outputs": [
    {
     "data": {
      "text/plain": [
       "17"
      ]
     },
     "execution_count": 35,
     "metadata": {},
     "output_type": "execute_result"
    }
   ],
   "source": [
    "a = 35\n",
    "b= 2\n",
    "z = a//b # gives the whole number portion of a division\n",
    "z"
   ]
  },
  {
   "cell_type": "code",
   "execution_count": 36,
   "id": "cc2345a9",
   "metadata": {},
   "outputs": [
    {
     "data": {
      "text/plain": [
       "1"
      ]
     },
     "execution_count": 36,
     "metadata": {},
     "output_type": "execute_result"
    }
   ],
   "source": [
    "a = 35\n",
    "b = 2\n",
    "z = a%b # gives the ramainder of a division\n",
    "z"
   ]
  },
  {
   "cell_type": "code",
   "execution_count": 4,
   "id": "eea5ee5c",
   "metadata": {},
   "outputs": [
    {
     "name": "stdout",
     "output_type": "stream",
     "text": [
      "223\n",
      "29\n"
     ]
    }
   ],
   "source": [
    "studentsAttendanceListBatchNo = 223\n",
    "print (studentsAttendanceListBatchNo)\n",
    "print(len('studentsAttendanceListBatchNo'))"
   ]
  },
  {
   "cell_type": "code",
   "execution_count": 7,
   "id": "b5ae396a",
   "metadata": {},
   "outputs": [
    {
     "name": "stdout",
     "output_type": "stream",
     "text": [
      "223\n",
      "6\n"
     ]
    }
   ],
   "source": [
    "sALBNo = 223\n",
    "print(sALBNo)\n",
    "print(len('sALBNO'))"
   ]
  },
  {
   "cell_type": "code",
   "execution_count": 8,
   "id": "bbca3f45",
   "metadata": {},
   "outputs": [
    {
     "name": "stdout",
     "output_type": "stream",
     "text": [
      "3\n",
      "14\n"
     ]
    }
   ],
   "source": [
    "x = 14\n",
    "y=35\n",
    "j =3\n",
    "print(j)\n",
    "print(x)"
   ]
  },
  {
   "cell_type": "code",
   "execution_count": 9,
   "id": "4648053e",
   "metadata": {},
   "outputs": [
    {
     "name": "stdout",
     "output_type": "stream",
     "text": [
      "3\n",
      "14\n",
      "35\n"
     ]
    }
   ],
   "source": [
    "x = 14\n",
    "y= 35\n",
    "j = 3\n",
    "\n",
    "print(j)\n",
    "print(x)\n",
    "print(y)"
   ]
  },
  {
   "cell_type": "markdown",
   "id": "1cfbd09a",
   "metadata": {},
   "source": [
    "# Strings\n"
   ]
  },
  {
   "cell_type": "code",
   "execution_count": 12,
   "id": "d8f8be9c",
   "metadata": {},
   "outputs": [],
   "source": [
    "myName = 'Diana-Abasi'"
   ]
  },
  {
   "cell_type": "code",
   "execution_count": 13,
   "id": "b0965038",
   "metadata": {},
   "outputs": [
    {
     "name": "stdout",
     "output_type": "stream",
     "text": [
      "Diana-Abasi\n"
     ]
    }
   ],
   "source": [
    "print(myName)"
   ]
  },
  {
   "cell_type": "code",
   "execution_count": 14,
   "id": "12b943ec",
   "metadata": {},
   "outputs": [
    {
     "data": {
      "text/plain": [
       "str"
      ]
     },
     "execution_count": 14,
     "metadata": {},
     "output_type": "execute_result"
    }
   ],
   "source": [
    "type(myName)"
   ]
  },
  {
   "cell_type": "code",
   "execution_count": 15,
   "id": "88b188bc",
   "metadata": {},
   "outputs": [],
   "source": [
    "#Slice and itirate over the charters in a string\n",
    "# Each character is given an index position in the obejc. That way we can always reach it"
   ]
  },
  {
   "cell_type": "code",
   "execution_count": 16,
   "id": "8ae1074d",
   "metadata": {},
   "outputs": [
    {
     "name": "stdout",
     "output_type": "stream",
     "text": [
      "11\n"
     ]
    }
   ],
   "source": [
    "print(len(myName))"
   ]
  },
  {
   "cell_type": "code",
   "execution_count": 17,
   "id": "20e7240e",
   "metadata": {},
   "outputs": [
    {
     "data": {
      "text/plain": [
       "'D'"
      ]
     },
     "execution_count": 17,
     "metadata": {},
     "output_type": "execute_result"
    }
   ],
   "source": [
    "# to obtain the firstcharter in myName:\n",
    "#String slicing\n",
    "\n",
    "myName[0]"
   ]
  },
  {
   "cell_type": "code",
   "execution_count": 18,
   "id": "b026a84d",
   "metadata": {},
   "outputs": [
    {
     "data": {
      "text/plain": [
       "'i'"
      ]
     },
     "execution_count": 18,
     "metadata": {},
     "output_type": "execute_result"
    }
   ],
   "source": [
    "myName[1]"
   ]
  },
  {
   "cell_type": "code",
   "execution_count": 19,
   "id": "cd552f35",
   "metadata": {},
   "outputs": [
    {
     "name": "stdout",
     "output_type": "stream",
     "text": [
      "Diana\n"
     ]
    }
   ],
   "source": [
    "fName = myName[0:5]\n",
    "print(fName)"
   ]
  },
  {
   "cell_type": "code",
   "execution_count": 21,
   "id": "b94c3d25",
   "metadata": {},
   "outputs": [],
   "source": [
    "tt = 'today'"
   ]
  },
  {
   "cell_type": "code",
   "execution_count": 22,
   "id": "17d0554a",
   "metadata": {},
   "outputs": [
    {
     "name": "stdout",
     "output_type": "stream",
     "text": [
      "tod\n"
     ]
    }
   ],
   "source": [
    "print(tt[0:3])"
   ]
  },
  {
   "cell_type": "code",
   "execution_count": 23,
   "id": "c8e0f003",
   "metadata": {},
   "outputs": [],
   "source": [
    "x ='yy'"
   ]
  },
  {
   "cell_type": "code",
   "execution_count": 24,
   "id": "61d5d5ab",
   "metadata": {},
   "outputs": [
    {
     "name": "stdout",
     "output_type": "stream",
     "text": [
      "ana-Abasi\n"
     ]
    }
   ],
   "source": [
    "lName = myName[2:]\n",
    "print(lName)"
   ]
  },
  {
   "cell_type": "code",
   "execution_count": 25,
   "id": "da0364cf",
   "metadata": {},
   "outputs": [],
   "source": [
    "# Country information\n",
    "\n",
    "country = '080344556_Nigeria_Abuja_2021'"
   ]
  },
  {
   "cell_type": "code",
   "execution_count": 26,
   "id": "7baae370",
   "metadata": {},
   "outputs": [
    {
     "data": {
      "text/plain": [
       "28"
      ]
     },
     "execution_count": 26,
     "metadata": {},
     "output_type": "execute_result"
    }
   ],
   "source": [
    "len(country)"
   ]
  },
  {
   "cell_type": "code",
   "execution_count": 27,
   "id": "69a952cb",
   "metadata": {},
   "outputs": [
    {
     "data": {
      "text/plain": [
       "'080344556'"
      ]
     },
     "execution_count": 27,
     "metadata": {},
     "output_type": "execute_result"
    }
   ],
   "source": [
    "phoneNo = country[0:9]\n",
    "phoneNo"
   ]
  },
  {
   "cell_type": "code",
   "execution_count": 28,
   "id": "5addc11b",
   "metadata": {},
   "outputs": [
    {
     "data": {
      "text/plain": [
       "'Nigeria'"
      ]
     },
     "execution_count": 28,
     "metadata": {},
     "output_type": "execute_result"
    }
   ],
   "source": [
    "cName = country[10:17]\n",
    "cName"
   ]
  },
  {
   "cell_type": "code",
   "execution_count": 29,
   "id": "65f6880a",
   "metadata": {},
   "outputs": [],
   "source": [
    "phoneNo,cName,city,yr = country.split('_')"
   ]
  },
  {
   "cell_type": "code",
   "execution_count": 30,
   "id": "b6b6111f",
   "metadata": {},
   "outputs": [
    {
     "name": "stdout",
     "output_type": "stream",
     "text": [
      "080344556 Nigeria Abuja 2021\n"
     ]
    }
   ],
   "source": [
    "print(phoneNo,cName,city,yr)"
   ]
  },
  {
   "cell_type": "markdown",
   "id": "992c01ee",
   "metadata": {},
   "source": [
    "# Splitting"
   ]
  },
  {
   "cell_type": "code",
   "execution_count": 32,
   "id": "362f70c1",
   "metadata": {},
   "outputs": [],
   "source": [
    "title = 'the Grand Khadi of Megaland'"
   ]
  },
  {
   "cell_type": "code",
   "execution_count": 33,
   "id": "470f2b96",
   "metadata": {},
   "outputs": [
    {
     "data": {
      "text/plain": [
       "['the', 'Grand', 'Khadi', 'of', 'Megaland']"
      ]
     },
     "execution_count": 33,
     "metadata": {},
     "output_type": "execute_result"
    }
   ],
   "source": [
    "title.split()"
   ]
  },
  {
   "cell_type": "code",
   "execution_count": 38,
   "id": "73825a82",
   "metadata": {},
   "outputs": [],
   "source": [
    "code = 'just.do.it_555_amazingGrace.56.23_1234.45%.you.are.great'\n",
    "result = code.split('_')"
   ]
  },
  {
   "cell_type": "code",
   "execution_count": 39,
   "id": "847a4830",
   "metadata": {},
   "outputs": [
    {
     "data": {
      "text/plain": [
       "['just.do.it', '555', 'amazingGrace.56.23', '1234.45%.you.are.great']"
      ]
     },
     "execution_count": 39,
     "metadata": {},
     "output_type": "execute_result"
    }
   ],
   "source": [
    "result"
   ]
  },
  {
   "cell_type": "code",
   "execution_count": 42,
   "id": "6c5c2da5",
   "metadata": {},
   "outputs": [
    {
     "data": {
      "text/plain": [
       "['just', 'do', 'it']"
      ]
     },
     "execution_count": 42,
     "metadata": {},
     "output_type": "execute_result"
    }
   ],
   "source": [
    "result[0].split('.')"
   ]
  },
  {
   "cell_type": "code",
   "execution_count": 43,
   "id": "e8fe7cf9",
   "metadata": {},
   "outputs": [
    {
     "data": {
      "text/plain": [
       "['todaayi', 'alovelydaywe', 'houldallenjoythe', 'un']"
      ]
     },
     "execution_count": 43,
     "metadata": {},
     "output_type": "execute_result"
    }
   ],
   "source": [
    "str1 = 'todaayisalovelydayweshouldallenjoythesun'\n",
    "\n",
    "str1.split('s')"
   ]
  },
  {
   "cell_type": "code",
   "execution_count": null,
   "id": "fa49be68",
   "metadata": {},
   "outputs": [],
   "source": []
  }
 ],
 "metadata": {
  "kernelspec": {
   "display_name": "Python 3 (ipykernel)",
   "language": "python",
   "name": "python3"
  },
  "language_info": {
   "codemirror_mode": {
    "name": "ipython",
    "version": 3
   },
   "file_extension": ".py",
   "mimetype": "text/x-python",
   "name": "python",
   "nbconvert_exporter": "python",
   "pygments_lexer": "ipython3",
   "version": "3.9.7"
  }
 },
 "nbformat": 4,
 "nbformat_minor": 5
}
